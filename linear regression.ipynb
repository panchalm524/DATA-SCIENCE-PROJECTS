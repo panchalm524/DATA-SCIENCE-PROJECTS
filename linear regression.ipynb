{
 "cells": [
  {
   "cell_type": "code",
   "execution_count": 1,
   "metadata": {},
   "outputs": [],
   "source": [
    "import pandas as pd"
   ]
  },
  {
   "cell_type": "code",
   "execution_count": 2,
   "metadata": {},
   "outputs": [],
   "source": [
    "df=pd.read_csv(\"D:/data science/data/loans data.csv\")"
   ]
  },
  {
   "cell_type": "code",
   "execution_count": 3,
   "metadata": {},
   "outputs": [
    {
     "data": {
      "text/html": [
       "<div>\n",
       "<style scoped>\n",
       "    .dataframe tbody tr th:only-of-type {\n",
       "        vertical-align: middle;\n",
       "    }\n",
       "\n",
       "    .dataframe tbody tr th {\n",
       "        vertical-align: top;\n",
       "    }\n",
       "\n",
       "    .dataframe thead th {\n",
       "        text-align: right;\n",
       "    }\n",
       "</style>\n",
       "<table border=\"1\" class=\"dataframe\">\n",
       "  <thead>\n",
       "    <tr style=\"text-align: right;\">\n",
       "      <th></th>\n",
       "      <th>ID</th>\n",
       "      <th>Amount.Requested</th>\n",
       "      <th>Interest.Rate</th>\n",
       "      <th>Loan.Length</th>\n",
       "      <th>Debt.To.Income.Ratio</th>\n",
       "      <th>Home.Ownership</th>\n",
       "      <th>Monthly.Income</th>\n",
       "      <th>FICO.Range</th>\n",
       "      <th>Open.CREDIT.Lines</th>\n",
       "      <th>Revolving.CREDIT.Balance</th>\n",
       "    </tr>\n",
       "  </thead>\n",
       "  <tbody>\n",
       "    <tr>\n",
       "      <td>0</td>\n",
       "      <td>81174.0</td>\n",
       "      <td>20000</td>\n",
       "      <td>8.90%</td>\n",
       "      <td>36 months</td>\n",
       "      <td>14.90%</td>\n",
       "      <td>MORTGAGE</td>\n",
       "      <td>6541.67</td>\n",
       "      <td>735</td>\n",
       "      <td>14</td>\n",
       "      <td>14272</td>\n",
       "    </tr>\n",
       "    <tr>\n",
       "      <td>1</td>\n",
       "      <td>99592.0</td>\n",
       "      <td>19200</td>\n",
       "      <td>12.12%</td>\n",
       "      <td>36 months</td>\n",
       "      <td>28.36%</td>\n",
       "      <td>MORTGAGE</td>\n",
       "      <td>4583.33</td>\n",
       "      <td>715</td>\n",
       "      <td>12</td>\n",
       "      <td>11140</td>\n",
       "    </tr>\n",
       "    <tr>\n",
       "      <td>2</td>\n",
       "      <td>80059.0</td>\n",
       "      <td>35000</td>\n",
       "      <td>21.98%</td>\n",
       "      <td>60 months</td>\n",
       "      <td>23.81%</td>\n",
       "      <td>MORTGAGE</td>\n",
       "      <td>11500.00</td>\n",
       "      <td>690</td>\n",
       "      <td>14</td>\n",
       "      <td>21977</td>\n",
       "    </tr>\n",
       "    <tr>\n",
       "      <td>3</td>\n",
       "      <td>15825.0</td>\n",
       "      <td>10000</td>\n",
       "      <td>9.99%</td>\n",
       "      <td>36 months</td>\n",
       "      <td>14.30%</td>\n",
       "      <td>MORTGAGE</td>\n",
       "      <td>3833.33</td>\n",
       "      <td>695</td>\n",
       "      <td>10</td>\n",
       "      <td>9346</td>\n",
       "    </tr>\n",
       "    <tr>\n",
       "      <td>4</td>\n",
       "      <td>33182.0</td>\n",
       "      <td>12000</td>\n",
       "      <td>11.71%</td>\n",
       "      <td>36 months</td>\n",
       "      <td>18.78%</td>\n",
       "      <td>RENT</td>\n",
       "      <td>3195.00</td>\n",
       "      <td>695</td>\n",
       "      <td>11</td>\n",
       "      <td>14469</td>\n",
       "    </tr>\n",
       "    <tr>\n",
       "      <td>...</td>\n",
       "      <td>...</td>\n",
       "      <td>...</td>\n",
       "      <td>...</td>\n",
       "      <td>...</td>\n",
       "      <td>...</td>\n",
       "      <td>...</td>\n",
       "      <td>...</td>\n",
       "      <td>...</td>\n",
       "      <td>...</td>\n",
       "      <td>...</td>\n",
       "    </tr>\n",
       "    <tr>\n",
       "      <td>2488</td>\n",
       "      <td>23735.0</td>\n",
       "      <td>30000</td>\n",
       "      <td>16.77%</td>\n",
       "      <td>60 months</td>\n",
       "      <td>19.23%</td>\n",
       "      <td>MORTGAGE</td>\n",
       "      <td>9250.00</td>\n",
       "      <td>705</td>\n",
       "      <td>15</td>\n",
       "      <td>45880</td>\n",
       "    </tr>\n",
       "    <tr>\n",
       "      <td>2489</td>\n",
       "      <td>65882.0</td>\n",
       "      <td>16000</td>\n",
       "      <td>14.09%</td>\n",
       "      <td>60 months</td>\n",
       "      <td>21.54%</td>\n",
       "      <td>OWN</td>\n",
       "      <td>8903.25</td>\n",
       "      <td>740</td>\n",
       "      <td>18</td>\n",
       "      <td>18898</td>\n",
       "    </tr>\n",
       "    <tr>\n",
       "      <td>2490</td>\n",
       "      <td>55610.0</td>\n",
       "      <td>10000</td>\n",
       "      <td>13.99%</td>\n",
       "      <td>36 months</td>\n",
       "      <td>4.89%</td>\n",
       "      <td>MORTGAGE</td>\n",
       "      <td>2166.67</td>\n",
       "      <td>680</td>\n",
       "      <td>4</td>\n",
       "      <td>4544</td>\n",
       "    </tr>\n",
       "    <tr>\n",
       "      <td>2491</td>\n",
       "      <td>38576.0</td>\n",
       "      <td>6000</td>\n",
       "      <td>12.42%</td>\n",
       "      <td>36 months</td>\n",
       "      <td>16.66%</td>\n",
       "      <td>RENT</td>\n",
       "      <td>3500.00</td>\n",
       "      <td>675</td>\n",
       "      <td>8</td>\n",
       "      <td>.</td>\n",
       "    </tr>\n",
       "    <tr>\n",
       "      <td>2492</td>\n",
       "      <td>3116.0</td>\n",
       "      <td>9000</td>\n",
       "      <td>13.79%</td>\n",
       "      <td>36 months</td>\n",
       "      <td>6.76%</td>\n",
       "      <td>RENT</td>\n",
       "      <td>3875.00</td>\n",
       "      <td>670</td>\n",
       "      <td>7</td>\n",
       "      <td>7589</td>\n",
       "    </tr>\n",
       "  </tbody>\n",
       "</table>\n",
       "<p>2493 rows × 10 columns</p>\n",
       "</div>"
      ],
      "text/plain": [
       "           ID Amount.Requested Interest.Rate Loan.Length Debt.To.Income.Ratio  \\\n",
       "0     81174.0            20000         8.90%   36 months               14.90%   \n",
       "1     99592.0            19200        12.12%   36 months               28.36%   \n",
       "2     80059.0            35000        21.98%   60 months               23.81%   \n",
       "3     15825.0            10000         9.99%   36 months               14.30%   \n",
       "4     33182.0            12000        11.71%   36 months               18.78%   \n",
       "...       ...              ...           ...         ...                  ...   \n",
       "2488  23735.0            30000        16.77%   60 months               19.23%   \n",
       "2489  65882.0            16000        14.09%   60 months               21.54%   \n",
       "2490  55610.0            10000        13.99%   36 months                4.89%   \n",
       "2491  38576.0             6000        12.42%   36 months               16.66%   \n",
       "2492   3116.0             9000        13.79%   36 months                6.76%   \n",
       "\n",
       "     Home.Ownership  Monthly.Income  FICO.Range Open.CREDIT.Lines  \\\n",
       "0          MORTGAGE         6541.67         735                14   \n",
       "1          MORTGAGE         4583.33         715                12   \n",
       "2          MORTGAGE        11500.00         690                14   \n",
       "3          MORTGAGE         3833.33         695                10   \n",
       "4              RENT         3195.00         695                11   \n",
       "...             ...             ...         ...               ...   \n",
       "2488       MORTGAGE         9250.00         705                15   \n",
       "2489            OWN         8903.25         740                18   \n",
       "2490       MORTGAGE         2166.67         680                 4   \n",
       "2491           RENT         3500.00         675                 8   \n",
       "2492           RENT         3875.00         670                 7   \n",
       "\n",
       "     Revolving.CREDIT.Balance  \n",
       "0                       14272  \n",
       "1                       11140  \n",
       "2                       21977  \n",
       "3                        9346  \n",
       "4                       14469  \n",
       "...                       ...  \n",
       "2488                    45880  \n",
       "2489                    18898  \n",
       "2490                     4544  \n",
       "2491                        .  \n",
       "2492                     7589  \n",
       "\n",
       "[2493 rows x 10 columns]"
      ]
     },
     "execution_count": 3,
     "metadata": {},
     "output_type": "execute_result"
    }
   ],
   "source": [
    "df"
   ]
  },
  {
   "cell_type": "code",
   "execution_count": 4,
   "metadata": {},
   "outputs": [
    {
     "data": {
      "text/plain": [
       "ID                          float64\n",
       "Amount.Requested             object\n",
       "Interest.Rate                object\n",
       "Loan.Length                  object\n",
       "Debt.To.Income.Ratio         object\n",
       "Home.Ownership               object\n",
       "Monthly.Income              float64\n",
       "FICO.Range                    int64\n",
       "Open.CREDIT.Lines            object\n",
       "Revolving.CREDIT.Balance     object\n",
       "dtype: object"
      ]
     },
     "execution_count": 4,
     "metadata": {},
     "output_type": "execute_result"
    }
   ],
   "source": [
    "df.dtypes"
   ]
  },
  {
   "cell_type": "code",
   "execution_count": 5,
   "metadata": {},
   "outputs": [
    {
     "name": "stdout",
     "output_type": "stream",
     "text": [
      "<class 'pandas.core.frame.DataFrame'>\n",
      "RangeIndex: 2493 entries, 0 to 2492\n",
      "Data columns (total 10 columns):\n",
      "ID                          2492 non-null float64\n",
      "Amount.Requested            2492 non-null object\n",
      "Interest.Rate               2493 non-null object\n",
      "Loan.Length                 2492 non-null object\n",
      "Debt.To.Income.Ratio        2492 non-null object\n",
      "Home.Ownership              2493 non-null object\n",
      "Monthly.Income              2491 non-null float64\n",
      "FICO.Range                  2493 non-null int64\n",
      "Open.CREDIT.Lines           2490 non-null object\n",
      "Revolving.CREDIT.Balance    2491 non-null object\n",
      "dtypes: float64(2), int64(1), object(7)\n",
      "memory usage: 194.9+ KB\n"
     ]
    }
   ],
   "source": [
    "df.info()"
   ]
  },
  {
   "cell_type": "code",
   "execution_count": 7,
   "metadata": {},
   "outputs": [],
   "source": [
    "df[\"Amount.Requested\"]=pd.to_numeric(df[\"Amount.Requested\"],errors=\"coerce\")"
   ]
  },
  {
   "cell_type": "code",
   "execution_count": 8,
   "metadata": {},
   "outputs": [
    {
     "name": "stdout",
     "output_type": "stream",
     "text": [
      "<class 'pandas.core.frame.DataFrame'>\n",
      "RangeIndex: 2493 entries, 0 to 2492\n",
      "Data columns (total 10 columns):\n",
      "ID                          2492 non-null float64\n",
      "Amount.Requested            2488 non-null float64\n",
      "Interest.Rate               2493 non-null object\n",
      "Loan.Length                 2492 non-null object\n",
      "Debt.To.Income.Ratio        2492 non-null object\n",
      "Home.Ownership              2493 non-null object\n",
      "Monthly.Income              2491 non-null float64\n",
      "FICO.Range                  2493 non-null int64\n",
      "Open.CREDIT.Lines           2490 non-null object\n",
      "Revolving.CREDIT.Balance    2491 non-null object\n",
      "dtypes: float64(3), int64(1), object(6)\n",
      "memory usage: 194.9+ KB\n"
     ]
    }
   ],
   "source": [
    "df.info()"
   ]
  },
  {
   "cell_type": "code",
   "execution_count": 9,
   "metadata": {},
   "outputs": [
    {
     "data": {
      "text/html": [
       "<div>\n",
       "<style scoped>\n",
       "    .dataframe tbody tr th:only-of-type {\n",
       "        vertical-align: middle;\n",
       "    }\n",
       "\n",
       "    .dataframe tbody tr th {\n",
       "        vertical-align: top;\n",
       "    }\n",
       "\n",
       "    .dataframe thead th {\n",
       "        text-align: right;\n",
       "    }\n",
       "</style>\n",
       "<table border=\"1\" class=\"dataframe\">\n",
       "  <thead>\n",
       "    <tr style=\"text-align: right;\">\n",
       "      <th></th>\n",
       "      <th>ID</th>\n",
       "      <th>Amount.Requested</th>\n",
       "      <th>Interest.Rate</th>\n",
       "      <th>Loan.Length</th>\n",
       "      <th>Debt.To.Income.Ratio</th>\n",
       "      <th>Home.Ownership</th>\n",
       "      <th>Monthly.Income</th>\n",
       "      <th>FICO.Range</th>\n",
       "      <th>Open.CREDIT.Lines</th>\n",
       "      <th>Revolving.CREDIT.Balance</th>\n",
       "    </tr>\n",
       "  </thead>\n",
       "  <tbody>\n",
       "    <tr>\n",
       "      <td>0</td>\n",
       "      <td>81174.0</td>\n",
       "      <td>20000.0</td>\n",
       "      <td>8.90%</td>\n",
       "      <td>36 months</td>\n",
       "      <td>14.90%</td>\n",
       "      <td>MORTGAGE</td>\n",
       "      <td>6541.67</td>\n",
       "      <td>735</td>\n",
       "      <td>14</td>\n",
       "      <td>14272</td>\n",
       "    </tr>\n",
       "    <tr>\n",
       "      <td>1</td>\n",
       "      <td>99592.0</td>\n",
       "      <td>19200.0</td>\n",
       "      <td>12.12%</td>\n",
       "      <td>36 months</td>\n",
       "      <td>28.36%</td>\n",
       "      <td>MORTGAGE</td>\n",
       "      <td>4583.33</td>\n",
       "      <td>715</td>\n",
       "      <td>12</td>\n",
       "      <td>11140</td>\n",
       "    </tr>\n",
       "    <tr>\n",
       "      <td>2</td>\n",
       "      <td>80059.0</td>\n",
       "      <td>35000.0</td>\n",
       "      <td>21.98%</td>\n",
       "      <td>60 months</td>\n",
       "      <td>23.81%</td>\n",
       "      <td>MORTGAGE</td>\n",
       "      <td>11500.00</td>\n",
       "      <td>690</td>\n",
       "      <td>14</td>\n",
       "      <td>21977</td>\n",
       "    </tr>\n",
       "    <tr>\n",
       "      <td>3</td>\n",
       "      <td>15825.0</td>\n",
       "      <td>10000.0</td>\n",
       "      <td>9.99%</td>\n",
       "      <td>36 months</td>\n",
       "      <td>14.30%</td>\n",
       "      <td>MORTGAGE</td>\n",
       "      <td>3833.33</td>\n",
       "      <td>695</td>\n",
       "      <td>10</td>\n",
       "      <td>9346</td>\n",
       "    </tr>\n",
       "    <tr>\n",
       "      <td>4</td>\n",
       "      <td>33182.0</td>\n",
       "      <td>12000.0</td>\n",
       "      <td>11.71%</td>\n",
       "      <td>36 months</td>\n",
       "      <td>18.78%</td>\n",
       "      <td>RENT</td>\n",
       "      <td>3195.00</td>\n",
       "      <td>695</td>\n",
       "      <td>11</td>\n",
       "      <td>14469</td>\n",
       "    </tr>\n",
       "  </tbody>\n",
       "</table>\n",
       "</div>"
      ],
      "text/plain": [
       "        ID  Amount.Requested Interest.Rate Loan.Length Debt.To.Income.Ratio  \\\n",
       "0  81174.0           20000.0         8.90%   36 months               14.90%   \n",
       "1  99592.0           19200.0        12.12%   36 months               28.36%   \n",
       "2  80059.0           35000.0        21.98%   60 months               23.81%   \n",
       "3  15825.0           10000.0         9.99%   36 months               14.30%   \n",
       "4  33182.0           12000.0        11.71%   36 months               18.78%   \n",
       "\n",
       "  Home.Ownership  Monthly.Income  FICO.Range Open.CREDIT.Lines  \\\n",
       "0       MORTGAGE         6541.67         735                14   \n",
       "1       MORTGAGE         4583.33         715                12   \n",
       "2       MORTGAGE        11500.00         690                14   \n",
       "3       MORTGAGE         3833.33         695                10   \n",
       "4           RENT         3195.00         695                11   \n",
       "\n",
       "  Revolving.CREDIT.Balance  \n",
       "0                    14272  \n",
       "1                    11140  \n",
       "2                    21977  \n",
       "3                     9346  \n",
       "4                    14469  "
      ]
     },
     "execution_count": 9,
     "metadata": {},
     "output_type": "execute_result"
    }
   ],
   "source": [
    "df.head()"
   ]
  },
  {
   "cell_type": "code",
   "execution_count": 10,
   "metadata": {},
   "outputs": [],
   "source": [
    "df[\"Interest.Rate\"]=(df[\"Interest.Rate\"].str.replace(\"%\",\"\"))"
   ]
  },
  {
   "cell_type": "code",
   "execution_count": 11,
   "metadata": {},
   "outputs": [],
   "source": [
    "df[\"Interest.Rate\"]=pd.to_numeric(df[\"Interest.Rate\"],errors=\"coerce\")"
   ]
  },
  {
   "cell_type": "code",
   "execution_count": 12,
   "metadata": {},
   "outputs": [
    {
     "name": "stdout",
     "output_type": "stream",
     "text": [
      "<class 'pandas.core.frame.DataFrame'>\n",
      "RangeIndex: 2493 entries, 0 to 2492\n",
      "Data columns (total 10 columns):\n",
      "ID                          2492 non-null float64\n",
      "Amount.Requested            2488 non-null float64\n",
      "Interest.Rate               2493 non-null float64\n",
      "Loan.Length                 2492 non-null object\n",
      "Debt.To.Income.Ratio        2492 non-null object\n",
      "Home.Ownership              2493 non-null object\n",
      "Monthly.Income              2491 non-null float64\n",
      "FICO.Range                  2493 non-null int64\n",
      "Open.CREDIT.Lines           2490 non-null object\n",
      "Revolving.CREDIT.Balance    2491 non-null object\n",
      "dtypes: float64(4), int64(1), object(5)\n",
      "memory usage: 194.9+ KB\n"
     ]
    }
   ],
   "source": [
    "df.info()"
   ]
  },
  {
   "cell_type": "code",
   "execution_count": 13,
   "metadata": {},
   "outputs": [],
   "source": [
    "df[\"Loan.Length\"]=(df[\"Loan.Length\"].str.replace(\"months\",\"\"))"
   ]
  },
  {
   "cell_type": "code",
   "execution_count": 14,
   "metadata": {},
   "outputs": [],
   "source": [
    "df[\"Loan.Length\"]=pd.to_numeric(df[\"Loan.Length\"],errors=\"coerce\")"
   ]
  },
  {
   "cell_type": "code",
   "execution_count": 15,
   "metadata": {},
   "outputs": [
    {
     "name": "stdout",
     "output_type": "stream",
     "text": [
      "<class 'pandas.core.frame.DataFrame'>\n",
      "RangeIndex: 2493 entries, 0 to 2492\n",
      "Data columns (total 10 columns):\n",
      "ID                          2492 non-null float64\n",
      "Amount.Requested            2488 non-null float64\n",
      "Interest.Rate               2493 non-null float64\n",
      "Loan.Length                 2491 non-null float64\n",
      "Debt.To.Income.Ratio        2492 non-null object\n",
      "Home.Ownership              2493 non-null object\n",
      "Monthly.Income              2491 non-null float64\n",
      "FICO.Range                  2493 non-null int64\n",
      "Open.CREDIT.Lines           2490 non-null object\n",
      "Revolving.CREDIT.Balance    2491 non-null object\n",
      "dtypes: float64(5), int64(1), object(4)\n",
      "memory usage: 194.9+ KB\n"
     ]
    }
   ],
   "source": [
    "df.info()"
   ]
  },
  {
   "cell_type": "code",
   "execution_count": 16,
   "metadata": {},
   "outputs": [],
   "source": [
    "df[\"Debt.To.Income.Ratio\"]=(df[\"Debt.To.Income.Ratio\"].str.replace(\"%\",\"\"))"
   ]
  },
  {
   "cell_type": "code",
   "execution_count": 24,
   "metadata": {},
   "outputs": [],
   "source": [
    "df[\"Debt.To.Income.Ratio\"]=pd.to_numeric(df[\"Debt.To.Income.Ratio\"],errors=\"coerce\")"
   ]
  },
  {
   "cell_type": "code",
   "execution_count": 26,
   "metadata": {},
   "outputs": [
    {
     "name": "stdout",
     "output_type": "stream",
     "text": [
      "<class 'pandas.core.frame.DataFrame'>\n",
      "RangeIndex: 2493 entries, 0 to 2492\n",
      "Data columns (total 10 columns):\n",
      "ID                          2492 non-null float64\n",
      "Amount.Requested            2488 non-null float64\n",
      "Interest.Rate               2493 non-null float64\n",
      "Loan.Length                 2491 non-null float64\n",
      "Debt.To.Income.Ratio        2492 non-null float64\n",
      "Home.Ownership              2493 non-null object\n",
      "Monthly.Income              2491 non-null float64\n",
      "FICO.Range                  2493 non-null int64\n",
      "Open.CREDIT.Lines           2490 non-null object\n",
      "Revolving.CREDIT.Balance    2491 non-null object\n",
      "dtypes: float64(6), int64(1), object(3)\n",
      "memory usage: 194.9+ KB\n"
     ]
    }
   ],
   "source": [
    "df.info()"
   ]
  },
  {
   "cell_type": "code",
   "execution_count": 27,
   "metadata": {},
   "outputs": [],
   "source": [
    "df[\"Monthly.Income\"]=pd.to_numeric(df[\"Monthly.Income\"],errors=\"coerce\")"
   ]
  },
  {
   "cell_type": "code",
   "execution_count": 28,
   "metadata": {},
   "outputs": [
    {
     "name": "stdout",
     "output_type": "stream",
     "text": [
      "<class 'pandas.core.frame.DataFrame'>\n",
      "RangeIndex: 2493 entries, 0 to 2492\n",
      "Data columns (total 10 columns):\n",
      "ID                          2492 non-null float64\n",
      "Amount.Requested            2488 non-null float64\n",
      "Interest.Rate               2493 non-null float64\n",
      "Loan.Length                 2491 non-null float64\n",
      "Debt.To.Income.Ratio        2492 non-null float64\n",
      "Home.Ownership              2493 non-null object\n",
      "Monthly.Income              2491 non-null float64\n",
      "FICO.Range                  2493 non-null int64\n",
      "Open.CREDIT.Lines           2490 non-null object\n",
      "Revolving.CREDIT.Balance    2491 non-null object\n",
      "dtypes: float64(6), int64(1), object(3)\n",
      "memory usage: 194.9+ KB\n"
     ]
    }
   ],
   "source": [
    "df.info()"
   ]
  },
  {
   "cell_type": "code",
   "execution_count": 30,
   "metadata": {},
   "outputs": [],
   "source": [
    "df[\"FICO.Range\"]=pd.to_numeric(df[\"FICO.Range\"],errors=\"coerce\")"
   ]
  },
  {
   "cell_type": "code",
   "execution_count": 31,
   "metadata": {},
   "outputs": [
    {
     "name": "stdout",
     "output_type": "stream",
     "text": [
      "<class 'pandas.core.frame.DataFrame'>\n",
      "RangeIndex: 2493 entries, 0 to 2492\n",
      "Data columns (total 10 columns):\n",
      "ID                          2492 non-null float64\n",
      "Amount.Requested            2488 non-null float64\n",
      "Interest.Rate               2493 non-null float64\n",
      "Loan.Length                 2491 non-null float64\n",
      "Debt.To.Income.Ratio        2492 non-null float64\n",
      "Home.Ownership              2493 non-null object\n",
      "Monthly.Income              2491 non-null float64\n",
      "FICO.Range                  2493 non-null int64\n",
      "Open.CREDIT.Lines           2490 non-null object\n",
      "Revolving.CREDIT.Balance    2491 non-null object\n",
      "dtypes: float64(6), int64(1), object(3)\n",
      "memory usage: 194.9+ KB\n"
     ]
    }
   ],
   "source": [
    "df.info()"
   ]
  },
  {
   "cell_type": "code",
   "execution_count": 37,
   "metadata": {},
   "outputs": [
    {
     "name": "stdout",
     "output_type": "stream",
     "text": [
      "<class 'pandas.core.frame.DataFrame'>\n",
      "RangeIndex: 2493 entries, 0 to 2492\n",
      "Data columns (total 10 columns):\n",
      "ID                          2492 non-null float64\n",
      "Amount.Requested            2488 non-null float64\n",
      "Interest.Rate               2493 non-null float64\n",
      "Loan.Length                 2491 non-null float64\n",
      "Debt.To.Income.Ratio        2492 non-null float64\n",
      "Home.Ownership              2493 non-null object\n",
      "Monthly.Income              2491 non-null float64\n",
      "FICO.Range                  2493 non-null int64\n",
      "Open.CREDIT.Lines           2485 non-null float64\n",
      "Revolving.CREDIT.Balance    2491 non-null object\n",
      "dtypes: float64(7), int64(1), object(2)\n",
      "memory usage: 194.9+ KB\n"
     ]
    }
   ],
   "source": [
    "df.info()\n"
   ]
  },
  {
   "cell_type": "code",
   "execution_count": 38,
   "metadata": {},
   "outputs": [],
   "source": [
    "df[\"Revolving.CREDIT.Balance\"]=pd.to_numeric(df[\"Revolving.CREDIT.Balance\"],errors=\"coerce\")"
   ]
  },
  {
   "cell_type": "code",
   "execution_count": 39,
   "metadata": {},
   "outputs": [
    {
     "name": "stdout",
     "output_type": "stream",
     "text": [
      "<class 'pandas.core.frame.DataFrame'>\n",
      "RangeIndex: 2493 entries, 0 to 2492\n",
      "Data columns (total 10 columns):\n",
      "ID                          2492 non-null float64\n",
      "Amount.Requested            2488 non-null float64\n",
      "Interest.Rate               2493 non-null float64\n",
      "Loan.Length                 2491 non-null float64\n",
      "Debt.To.Income.Ratio        2492 non-null float64\n",
      "Home.Ownership              2493 non-null object\n",
      "Monthly.Income              2491 non-null float64\n",
      "FICO.Range                  2493 non-null int64\n",
      "Open.CREDIT.Lines           2485 non-null float64\n",
      "Revolving.CREDIT.Balance    2489 non-null float64\n",
      "dtypes: float64(8), int64(1), object(1)\n",
      "memory usage: 194.9+ KB\n"
     ]
    }
   ],
   "source": [
    "df.info()"
   ]
  },
  {
   "cell_type": "code",
   "execution_count": 40,
   "metadata": {},
   "outputs": [
    {
     "data": {
      "text/plain": [
       "MORTGAGE    1147\n",
       "RENT        1146\n",
       "OWN          200\n",
       "Name: Home.Ownership, dtype: int64"
      ]
     },
     "execution_count": 40,
     "metadata": {},
     "output_type": "execute_result"
    }
   ],
   "source": [
    "df[\"Home.Ownership\"].value_counts()"
   ]
  },
  {
   "cell_type": "code",
   "execution_count": 41,
   "metadata": {},
   "outputs": [],
   "source": [
    "dummy=pd.get_dummies(df[\"Home.Ownership\"])\n",
    "\n"
   ]
  },
  {
   "cell_type": "code",
   "execution_count": 42,
   "metadata": {},
   "outputs": [
    {
     "data": {
      "text/html": [
       "<div>\n",
       "<style scoped>\n",
       "    .dataframe tbody tr th:only-of-type {\n",
       "        vertical-align: middle;\n",
       "    }\n",
       "\n",
       "    .dataframe tbody tr th {\n",
       "        vertical-align: top;\n",
       "    }\n",
       "\n",
       "    .dataframe thead th {\n",
       "        text-align: right;\n",
       "    }\n",
       "</style>\n",
       "<table border=\"1\" class=\"dataframe\">\n",
       "  <thead>\n",
       "    <tr style=\"text-align: right;\">\n",
       "      <th></th>\n",
       "      <th>MORTGAGE</th>\n",
       "      <th>OWN</th>\n",
       "      <th>RENT</th>\n",
       "    </tr>\n",
       "  </thead>\n",
       "  <tbody>\n",
       "    <tr>\n",
       "      <td>0</td>\n",
       "      <td>1</td>\n",
       "      <td>0</td>\n",
       "      <td>0</td>\n",
       "    </tr>\n",
       "    <tr>\n",
       "      <td>1</td>\n",
       "      <td>1</td>\n",
       "      <td>0</td>\n",
       "      <td>0</td>\n",
       "    </tr>\n",
       "    <tr>\n",
       "      <td>2</td>\n",
       "      <td>1</td>\n",
       "      <td>0</td>\n",
       "      <td>0</td>\n",
       "    </tr>\n",
       "    <tr>\n",
       "      <td>3</td>\n",
       "      <td>1</td>\n",
       "      <td>0</td>\n",
       "      <td>0</td>\n",
       "    </tr>\n",
       "    <tr>\n",
       "      <td>4</td>\n",
       "      <td>0</td>\n",
       "      <td>0</td>\n",
       "      <td>1</td>\n",
       "    </tr>\n",
       "    <tr>\n",
       "      <td>...</td>\n",
       "      <td>...</td>\n",
       "      <td>...</td>\n",
       "      <td>...</td>\n",
       "    </tr>\n",
       "    <tr>\n",
       "      <td>2488</td>\n",
       "      <td>1</td>\n",
       "      <td>0</td>\n",
       "      <td>0</td>\n",
       "    </tr>\n",
       "    <tr>\n",
       "      <td>2489</td>\n",
       "      <td>0</td>\n",
       "      <td>1</td>\n",
       "      <td>0</td>\n",
       "    </tr>\n",
       "    <tr>\n",
       "      <td>2490</td>\n",
       "      <td>1</td>\n",
       "      <td>0</td>\n",
       "      <td>0</td>\n",
       "    </tr>\n",
       "    <tr>\n",
       "      <td>2491</td>\n",
       "      <td>0</td>\n",
       "      <td>0</td>\n",
       "      <td>1</td>\n",
       "    </tr>\n",
       "    <tr>\n",
       "      <td>2492</td>\n",
       "      <td>0</td>\n",
       "      <td>0</td>\n",
       "      <td>1</td>\n",
       "    </tr>\n",
       "  </tbody>\n",
       "</table>\n",
       "<p>2493 rows × 3 columns</p>\n",
       "</div>"
      ],
      "text/plain": [
       "      MORTGAGE  OWN  RENT\n",
       "0            1    0     0\n",
       "1            1    0     0\n",
       "2            1    0     0\n",
       "3            1    0     0\n",
       "4            0    0     1\n",
       "...        ...  ...   ...\n",
       "2488         1    0     0\n",
       "2489         0    1     0\n",
       "2490         1    0     0\n",
       "2491         0    0     1\n",
       "2492         0    0     1\n",
       "\n",
       "[2493 rows x 3 columns]"
      ]
     },
     "execution_count": 42,
     "metadata": {},
     "output_type": "execute_result"
    }
   ],
   "source": [
    "dummy\n"
   ]
  },
  {
   "cell_type": "code",
   "execution_count": 43,
   "metadata": {},
   "outputs": [],
   "source": [
    "df=pd.concat([df,dummy],axis=1)"
   ]
  },
  {
   "cell_type": "code",
   "execution_count": 44,
   "metadata": {},
   "outputs": [
    {
     "data": {
      "text/html": [
       "<div>\n",
       "<style scoped>\n",
       "    .dataframe tbody tr th:only-of-type {\n",
       "        vertical-align: middle;\n",
       "    }\n",
       "\n",
       "    .dataframe tbody tr th {\n",
       "        vertical-align: top;\n",
       "    }\n",
       "\n",
       "    .dataframe thead th {\n",
       "        text-align: right;\n",
       "    }\n",
       "</style>\n",
       "<table border=\"1\" class=\"dataframe\">\n",
       "  <thead>\n",
       "    <tr style=\"text-align: right;\">\n",
       "      <th></th>\n",
       "      <th>ID</th>\n",
       "      <th>Amount.Requested</th>\n",
       "      <th>Interest.Rate</th>\n",
       "      <th>Loan.Length</th>\n",
       "      <th>Debt.To.Income.Ratio</th>\n",
       "      <th>Home.Ownership</th>\n",
       "      <th>Monthly.Income</th>\n",
       "      <th>FICO.Range</th>\n",
       "      <th>Open.CREDIT.Lines</th>\n",
       "      <th>Revolving.CREDIT.Balance</th>\n",
       "      <th>MORTGAGE</th>\n",
       "      <th>OWN</th>\n",
       "      <th>RENT</th>\n",
       "    </tr>\n",
       "  </thead>\n",
       "  <tbody>\n",
       "    <tr>\n",
       "      <td>0</td>\n",
       "      <td>81174.0</td>\n",
       "      <td>20000.0</td>\n",
       "      <td>8.90</td>\n",
       "      <td>36.0</td>\n",
       "      <td>14.90</td>\n",
       "      <td>MORTGAGE</td>\n",
       "      <td>6541.67</td>\n",
       "      <td>735</td>\n",
       "      <td>14.0</td>\n",
       "      <td>14272.0</td>\n",
       "      <td>1</td>\n",
       "      <td>0</td>\n",
       "      <td>0</td>\n",
       "    </tr>\n",
       "    <tr>\n",
       "      <td>1</td>\n",
       "      <td>99592.0</td>\n",
       "      <td>19200.0</td>\n",
       "      <td>12.12</td>\n",
       "      <td>36.0</td>\n",
       "      <td>28.36</td>\n",
       "      <td>MORTGAGE</td>\n",
       "      <td>4583.33</td>\n",
       "      <td>715</td>\n",
       "      <td>12.0</td>\n",
       "      <td>11140.0</td>\n",
       "      <td>1</td>\n",
       "      <td>0</td>\n",
       "      <td>0</td>\n",
       "    </tr>\n",
       "    <tr>\n",
       "      <td>2</td>\n",
       "      <td>80059.0</td>\n",
       "      <td>35000.0</td>\n",
       "      <td>21.98</td>\n",
       "      <td>60.0</td>\n",
       "      <td>23.81</td>\n",
       "      <td>MORTGAGE</td>\n",
       "      <td>11500.00</td>\n",
       "      <td>690</td>\n",
       "      <td>14.0</td>\n",
       "      <td>21977.0</td>\n",
       "      <td>1</td>\n",
       "      <td>0</td>\n",
       "      <td>0</td>\n",
       "    </tr>\n",
       "    <tr>\n",
       "      <td>3</td>\n",
       "      <td>15825.0</td>\n",
       "      <td>10000.0</td>\n",
       "      <td>9.99</td>\n",
       "      <td>36.0</td>\n",
       "      <td>14.30</td>\n",
       "      <td>MORTGAGE</td>\n",
       "      <td>3833.33</td>\n",
       "      <td>695</td>\n",
       "      <td>10.0</td>\n",
       "      <td>9346.0</td>\n",
       "      <td>1</td>\n",
       "      <td>0</td>\n",
       "      <td>0</td>\n",
       "    </tr>\n",
       "    <tr>\n",
       "      <td>4</td>\n",
       "      <td>33182.0</td>\n",
       "      <td>12000.0</td>\n",
       "      <td>11.71</td>\n",
       "      <td>36.0</td>\n",
       "      <td>18.78</td>\n",
       "      <td>RENT</td>\n",
       "      <td>3195.00</td>\n",
       "      <td>695</td>\n",
       "      <td>11.0</td>\n",
       "      <td>14469.0</td>\n",
       "      <td>0</td>\n",
       "      <td>0</td>\n",
       "      <td>1</td>\n",
       "    </tr>\n",
       "  </tbody>\n",
       "</table>\n",
       "</div>"
      ],
      "text/plain": [
       "        ID  Amount.Requested  Interest.Rate  Loan.Length  \\\n",
       "0  81174.0           20000.0           8.90         36.0   \n",
       "1  99592.0           19200.0          12.12         36.0   \n",
       "2  80059.0           35000.0          21.98         60.0   \n",
       "3  15825.0           10000.0           9.99         36.0   \n",
       "4  33182.0           12000.0          11.71         36.0   \n",
       "\n",
       "   Debt.To.Income.Ratio Home.Ownership  Monthly.Income  FICO.Range  \\\n",
       "0                 14.90       MORTGAGE         6541.67         735   \n",
       "1                 28.36       MORTGAGE         4583.33         715   \n",
       "2                 23.81       MORTGAGE        11500.00         690   \n",
       "3                 14.30       MORTGAGE         3833.33         695   \n",
       "4                 18.78           RENT         3195.00         695   \n",
       "\n",
       "   Open.CREDIT.Lines  Revolving.CREDIT.Balance  MORTGAGE  OWN  RENT  \n",
       "0               14.0                   14272.0         1    0     0  \n",
       "1               12.0                   11140.0         1    0     0  \n",
       "2               14.0                   21977.0         1    0     0  \n",
       "3               10.0                    9346.0         1    0     0  \n",
       "4               11.0                   14469.0         0    0     1  "
      ]
     },
     "execution_count": 44,
     "metadata": {},
     "output_type": "execute_result"
    }
   ],
   "source": [
    "df.head()"
   ]
  },
  {
   "cell_type": "code",
   "execution_count": 45,
   "metadata": {},
   "outputs": [],
   "source": [
    "df=df.drop([\"Home.Ownership\"],axis=1)"
   ]
  },
  {
   "cell_type": "code",
   "execution_count": 46,
   "metadata": {},
   "outputs": [
    {
     "data": {
      "text/html": [
       "<div>\n",
       "<style scoped>\n",
       "    .dataframe tbody tr th:only-of-type {\n",
       "        vertical-align: middle;\n",
       "    }\n",
       "\n",
       "    .dataframe tbody tr th {\n",
       "        vertical-align: top;\n",
       "    }\n",
       "\n",
       "    .dataframe thead th {\n",
       "        text-align: right;\n",
       "    }\n",
       "</style>\n",
       "<table border=\"1\" class=\"dataframe\">\n",
       "  <thead>\n",
       "    <tr style=\"text-align: right;\">\n",
       "      <th></th>\n",
       "      <th>ID</th>\n",
       "      <th>Amount.Requested</th>\n",
       "      <th>Interest.Rate</th>\n",
       "      <th>Loan.Length</th>\n",
       "      <th>Debt.To.Income.Ratio</th>\n",
       "      <th>Monthly.Income</th>\n",
       "      <th>FICO.Range</th>\n",
       "      <th>Open.CREDIT.Lines</th>\n",
       "      <th>Revolving.CREDIT.Balance</th>\n",
       "      <th>MORTGAGE</th>\n",
       "      <th>OWN</th>\n",
       "      <th>RENT</th>\n",
       "    </tr>\n",
       "  </thead>\n",
       "  <tbody>\n",
       "    <tr>\n",
       "      <td>0</td>\n",
       "      <td>81174.0</td>\n",
       "      <td>20000.0</td>\n",
       "      <td>8.90</td>\n",
       "      <td>36.0</td>\n",
       "      <td>14.90</td>\n",
       "      <td>6541.67</td>\n",
       "      <td>735</td>\n",
       "      <td>14.0</td>\n",
       "      <td>14272.0</td>\n",
       "      <td>1</td>\n",
       "      <td>0</td>\n",
       "      <td>0</td>\n",
       "    </tr>\n",
       "    <tr>\n",
       "      <td>1</td>\n",
       "      <td>99592.0</td>\n",
       "      <td>19200.0</td>\n",
       "      <td>12.12</td>\n",
       "      <td>36.0</td>\n",
       "      <td>28.36</td>\n",
       "      <td>4583.33</td>\n",
       "      <td>715</td>\n",
       "      <td>12.0</td>\n",
       "      <td>11140.0</td>\n",
       "      <td>1</td>\n",
       "      <td>0</td>\n",
       "      <td>0</td>\n",
       "    </tr>\n",
       "    <tr>\n",
       "      <td>2</td>\n",
       "      <td>80059.0</td>\n",
       "      <td>35000.0</td>\n",
       "      <td>21.98</td>\n",
       "      <td>60.0</td>\n",
       "      <td>23.81</td>\n",
       "      <td>11500.00</td>\n",
       "      <td>690</td>\n",
       "      <td>14.0</td>\n",
       "      <td>21977.0</td>\n",
       "      <td>1</td>\n",
       "      <td>0</td>\n",
       "      <td>0</td>\n",
       "    </tr>\n",
       "    <tr>\n",
       "      <td>3</td>\n",
       "      <td>15825.0</td>\n",
       "      <td>10000.0</td>\n",
       "      <td>9.99</td>\n",
       "      <td>36.0</td>\n",
       "      <td>14.30</td>\n",
       "      <td>3833.33</td>\n",
       "      <td>695</td>\n",
       "      <td>10.0</td>\n",
       "      <td>9346.0</td>\n",
       "      <td>1</td>\n",
       "      <td>0</td>\n",
       "      <td>0</td>\n",
       "    </tr>\n",
       "    <tr>\n",
       "      <td>4</td>\n",
       "      <td>33182.0</td>\n",
       "      <td>12000.0</td>\n",
       "      <td>11.71</td>\n",
       "      <td>36.0</td>\n",
       "      <td>18.78</td>\n",
       "      <td>3195.00</td>\n",
       "      <td>695</td>\n",
       "      <td>11.0</td>\n",
       "      <td>14469.0</td>\n",
       "      <td>0</td>\n",
       "      <td>0</td>\n",
       "      <td>1</td>\n",
       "    </tr>\n",
       "  </tbody>\n",
       "</table>\n",
       "</div>"
      ],
      "text/plain": [
       "        ID  Amount.Requested  Interest.Rate  Loan.Length  \\\n",
       "0  81174.0           20000.0           8.90         36.0   \n",
       "1  99592.0           19200.0          12.12         36.0   \n",
       "2  80059.0           35000.0          21.98         60.0   \n",
       "3  15825.0           10000.0           9.99         36.0   \n",
       "4  33182.0           12000.0          11.71         36.0   \n",
       "\n",
       "   Debt.To.Income.Ratio  Monthly.Income  FICO.Range  Open.CREDIT.Lines  \\\n",
       "0                 14.90         6541.67         735               14.0   \n",
       "1                 28.36         4583.33         715               12.0   \n",
       "2                 23.81        11500.00         690               14.0   \n",
       "3                 14.30         3833.33         695               10.0   \n",
       "4                 18.78         3195.00         695               11.0   \n",
       "\n",
       "   Revolving.CREDIT.Balance  MORTGAGE  OWN  RENT  \n",
       "0                   14272.0         1    0     0  \n",
       "1                   11140.0         1    0     0  \n",
       "2                   21977.0         1    0     0  \n",
       "3                    9346.0         1    0     0  \n",
       "4                   14469.0         0    0     1  "
      ]
     },
     "execution_count": 46,
     "metadata": {},
     "output_type": "execute_result"
    }
   ],
   "source": [
    "df.head()"
   ]
  },
  {
   "cell_type": "code",
   "execution_count": 48,
   "metadata": {},
   "outputs": [
    {
     "data": {
      "text/plain": [
       "ID                          1\n",
       "Amount.Requested            5\n",
       "Interest.Rate               0\n",
       "Loan.Length                 2\n",
       "Debt.To.Income.Ratio        1\n",
       "Monthly.Income              2\n",
       "FICO.Range                  0\n",
       "Open.CREDIT.Lines           8\n",
       "Revolving.CREDIT.Balance    4\n",
       "MORTGAGE                    0\n",
       "OWN                         0\n",
       "RENT                        0\n",
       "dtype: int64"
      ]
     },
     "execution_count": 48,
     "metadata": {},
     "output_type": "execute_result"
    }
   ],
   "source": [
    "df.isnull().sum()"
   ]
  },
  {
   "cell_type": "code",
   "execution_count": 49,
   "metadata": {},
   "outputs": [],
   "source": [
    "df=df.dropna()"
   ]
  },
  {
   "cell_type": "code",
   "execution_count": 50,
   "metadata": {},
   "outputs": [
    {
     "data": {
      "text/plain": [
       "ID                          float64\n",
       "Amount.Requested            float64\n",
       "Interest.Rate               float64\n",
       "Loan.Length                 float64\n",
       "Debt.To.Income.Ratio        float64\n",
       "Monthly.Income              float64\n",
       "FICO.Range                    int64\n",
       "Open.CREDIT.Lines           float64\n",
       "Revolving.CREDIT.Balance    float64\n",
       "MORTGAGE                      uint8\n",
       "OWN                           uint8\n",
       "RENT                          uint8\n",
       "dtype: object"
      ]
     },
     "execution_count": 50,
     "metadata": {},
     "output_type": "execute_result"
    }
   ],
   "source": [
    "df.dtypes"
   ]
  },
  {
   "cell_type": "code",
   "execution_count": 51,
   "metadata": {},
   "outputs": [
    {
     "data": {
      "text/plain": [
       "ID                          0\n",
       "Amount.Requested            0\n",
       "Interest.Rate               0\n",
       "Loan.Length                 0\n",
       "Debt.To.Income.Ratio        0\n",
       "Monthly.Income              0\n",
       "FICO.Range                  0\n",
       "Open.CREDIT.Lines           0\n",
       "Revolving.CREDIT.Balance    0\n",
       "MORTGAGE                    0\n",
       "OWN                         0\n",
       "RENT                        0\n",
       "dtype: int64"
      ]
     },
     "execution_count": 51,
     "metadata": {},
     "output_type": "execute_result"
    }
   ],
   "source": [
    "df.isnull().sum()"
   ]
  },
  {
   "cell_type": "code",
   "execution_count": 52,
   "metadata": {},
   "outputs": [],
   "source": [
    "import matplotlib.pyplot as plt\n",
    "import statsmodels.api as sm"
   ]
  },
  {
   "cell_type": "code",
   "execution_count": 53,
   "metadata": {},
   "outputs": [
    {
     "data": {
      "image/png": "[encoded data removed]",
      "text/plain": [
       "<Figure size 432x288 with 1 Axes>"
      ]
     },
     "metadata": {
      "needs_background": "light"
     },
     "output_type": "display_data"
    }
   ],
   "source": [
    "fig=sm.qqplot(df[\"Interest.Rate\"])"
   ]
  },
  {
   "cell_type": "code",
   "execution_count": 54,
   "metadata": {},
   "outputs": [
    {
     "data": {
      "image/png": "[encoded data removed]",
      "text/plain": [
       "<Figure size 432x288 with 1 Axes>"
      ]
     },
     "metadata": {
      "needs_background": "light"
     },
     "output_type": "display_data"
    }
   ],
   "source": [
    "fig=sm.qqplot(df[\"Amount.Requested\"])"
   ]
  },
  {
   "cell_type": "code",
   "execution_count": 56,
   "metadata": {},
   "outputs": [
    {
     "data": {
      "text/plain": [
       "Text(0, 0.5, '<.....yaxis.....>')"
      ]
     },
     "execution_count": 56,
     "metadata": {},
     "output_type": "execute_result"
    },
    {
     "data": {
      "image/png": "[encoded data removed]",
      "text/plain": [
       "<Figure size 432x288 with 1 Axes>"
      ]
     },
     "metadata": {
      "needs_background": "light"
     },
     "output_type": "display_data"
    }
   ],
   "source": [
    "import seaborn as sns\n",
    "sns.distplot(df[\"Amount.Requested\"])\n",
    "plt.xlabel(\"Amount.Requested by applicant\")\n",
    "plt.ylabel(\"<.....yaxis.....>\")"
   ]
  },
  {
   "cell_type": "code",
   "execution_count": 57,
   "metadata": {},
   "outputs": [
    {
     "data": {
      "image/png": "[encoded data removed]",
      "text/plain": [
       "<Figure size 432x288 with 2 Axes>"
      ]
     },
     "metadata": {
      "needs_background": "light"
     },
     "output_type": "display_data"
    }
   ],
   "source": [
    "cor_m=df.corr().round(2)          #correlation matrix\n",
    "sns.heatmap(data=cor_m,annot=True)\n",
    "plt.show()"
   ]
  },
  {
   "cell_type": "code",
   "execution_count": 58,
   "metadata": {},
   "outputs": [
    {
     "data": {
      "text/plain": [
       "<matplotlib.axes._subplots.AxesSubplot at 0x19c86bb32c8>"
      ]
     },
     "execution_count": 58,
     "metadata": {},
     "output_type": "execute_result"
    },
    {
     "data": {
      "image/png": "[encoded data removed]",
      "text/plain": [
       "<Figure size 432x288 with 1 Axes>"
      ]
     },
     "metadata": {
      "needs_background": "light"
     },
     "output_type": "display_data"
    }
   ],
   "source": [
    "sns.boxplot(x=df[\"Amount.Requested\"],color=\"red\")"
   ]
  },
  {
   "cell_type": "code",
   "execution_count": 59,
   "metadata": {},
   "outputs": [
    {
     "data": {
      "text/html": [
       "<div>\n",
       "<style scoped>\n",
       "    .dataframe tbody tr th:only-of-type {\n",
       "        vertical-align: middle;\n",
       "    }\n",
       "\n",
       "    .dataframe tbody tr th {\n",
       "        vertical-align: top;\n",
       "    }\n",
       "\n",
       "    .dataframe thead th {\n",
       "        text-align: right;\n",
       "    }\n",
       "</style>\n",
       "<table border=\"1\" class=\"dataframe\">\n",
       "  <thead>\n",
       "    <tr style=\"text-align: right;\">\n",
       "      <th></th>\n",
       "      <th>ID</th>\n",
       "      <th>Amount.Requested</th>\n",
       "      <th>Interest.Rate</th>\n",
       "      <th>Loan.Length</th>\n",
       "      <th>Debt.To.Income.Ratio</th>\n",
       "      <th>Monthly.Income</th>\n",
       "      <th>FICO.Range</th>\n",
       "      <th>Open.CREDIT.Lines</th>\n",
       "      <th>Revolving.CREDIT.Balance</th>\n",
       "      <th>MORTGAGE</th>\n",
       "      <th>OWN</th>\n",
       "      <th>RENT</th>\n",
       "    </tr>\n",
       "  </thead>\n",
       "  <tbody>\n",
       "    <tr>\n",
       "      <td>count</td>\n",
       "      <td>2472.000000</td>\n",
       "      <td>2472.000000</td>\n",
       "      <td>2472.000000</td>\n",
       "      <td>2472.000000</td>\n",
       "      <td>2472.000000</td>\n",
       "      <td>2472.000000</td>\n",
       "      <td>2472.000000</td>\n",
       "      <td>2472.000000</td>\n",
       "      <td>2472.000000</td>\n",
       "      <td>2472.000000</td>\n",
       "      <td>2472.000000</td>\n",
       "      <td>2472.000000</td>\n",
       "    </tr>\n",
       "    <tr>\n",
       "      <td>mean</td>\n",
       "      <td>51472.562298</td>\n",
       "      <td>12444.053398</td>\n",
       "      <td>13.069551</td>\n",
       "      <td>41.291262</td>\n",
       "      <td>15.379029</td>\n",
       "      <td>5691.556780</td>\n",
       "      <td>705.906149</td>\n",
       "      <td>10.073220</td>\n",
       "      <td>15233.970065</td>\n",
       "      <td>0.459951</td>\n",
       "      <td>0.080097</td>\n",
       "      <td>0.459951</td>\n",
       "    </tr>\n",
       "    <tr>\n",
       "      <td>std</td>\n",
       "      <td>30031.124888</td>\n",
       "      <td>7806.377267</td>\n",
       "      <td>4.176147</td>\n",
       "      <td>9.951527</td>\n",
       "      <td>7.487674</td>\n",
       "      <td>3974.937784</td>\n",
       "      <td>34.930238</td>\n",
       "      <td>4.502517</td>\n",
       "      <td>18318.330943</td>\n",
       "      <td>0.498494</td>\n",
       "      <td>0.271498</td>\n",
       "      <td>0.498494</td>\n",
       "    </tr>\n",
       "    <tr>\n",
       "      <td>min</td>\n",
       "      <td>10.000000</td>\n",
       "      <td>1000.000000</td>\n",
       "      <td>5.420000</td>\n",
       "      <td>36.000000</td>\n",
       "      <td>0.000000</td>\n",
       "      <td>588.500000</td>\n",
       "      <td>640.000000</td>\n",
       "      <td>2.000000</td>\n",
       "      <td>0.000000</td>\n",
       "      <td>0.000000</td>\n",
       "      <td>0.000000</td>\n",
       "      <td>0.000000</td>\n",
       "    </tr>\n",
       "    <tr>\n",
       "      <td>25%</td>\n",
       "      <td>26365.250000</td>\n",
       "      <td>6000.000000</td>\n",
       "      <td>10.160000</td>\n",
       "      <td>36.000000</td>\n",
       "      <td>9.747500</td>\n",
       "      <td>3494.200000</td>\n",
       "      <td>680.000000</td>\n",
       "      <td>7.000000</td>\n",
       "      <td>5566.250000</td>\n",
       "      <td>0.000000</td>\n",
       "      <td>0.000000</td>\n",
       "      <td>0.000000</td>\n",
       "    </tr>\n",
       "    <tr>\n",
       "      <td>50%</td>\n",
       "      <td>50393.500000</td>\n",
       "      <td>10000.000000</td>\n",
       "      <td>13.110000</td>\n",
       "      <td>36.000000</td>\n",
       "      <td>15.295000</td>\n",
       "      <td>5000.000000</td>\n",
       "      <td>700.000000</td>\n",
       "      <td>9.000000</td>\n",
       "      <td>10962.000000</td>\n",
       "      <td>0.000000</td>\n",
       "      <td>0.000000</td>\n",
       "      <td>0.000000</td>\n",
       "    </tr>\n",
       "    <tr>\n",
       "      <td>75%</td>\n",
       "      <td>77456.500000</td>\n",
       "      <td>17000.000000</td>\n",
       "      <td>15.800000</td>\n",
       "      <td>36.000000</td>\n",
       "      <td>20.692500</td>\n",
       "      <td>6800.000000</td>\n",
       "      <td>725.000000</td>\n",
       "      <td>13.000000</td>\n",
       "      <td>18909.750000</td>\n",
       "      <td>1.000000</td>\n",
       "      <td>0.000000</td>\n",
       "      <td>1.000000</td>\n",
       "    </tr>\n",
       "    <tr>\n",
       "      <td>max</td>\n",
       "      <td>104202.000000</td>\n",
       "      <td>35000.000000</td>\n",
       "      <td>24.890000</td>\n",
       "      <td>60.000000</td>\n",
       "      <td>34.910000</td>\n",
       "      <td>102750.000000</td>\n",
       "      <td>830.000000</td>\n",
       "      <td>38.000000</td>\n",
       "      <td>270800.000000</td>\n",
       "      <td>1.000000</td>\n",
       "      <td>1.000000</td>\n",
       "      <td>1.000000</td>\n",
       "    </tr>\n",
       "  </tbody>\n",
       "</table>\n",
       "</div>"
      ],
      "text/plain": [
       "                  ID  Amount.Requested  Interest.Rate  Loan.Length  \\\n",
       "count    2472.000000       2472.000000    2472.000000  2472.000000   \n",
       "mean    51472.562298      12444.053398      13.069551    41.291262   \n",
       "std     30031.124888       7806.377267       4.176147     9.951527   \n",
       "min        10.000000       1000.000000       5.420000    36.000000   \n",
       "25%     26365.250000       6000.000000      10.160000    36.000000   \n",
       "50%     50393.500000      10000.000000      13.110000    36.000000   \n",
       "75%     77456.500000      17000.000000      15.800000    36.000000   \n",
       "max    104202.000000      35000.000000      24.890000    60.000000   \n",
       "\n",
       "       Debt.To.Income.Ratio  Monthly.Income   FICO.Range  Open.CREDIT.Lines  \\\n",
       "count           2472.000000     2472.000000  2472.000000        2472.000000   \n",
       "mean              15.379029     5691.556780   705.906149          10.073220   \n",
       "std                7.487674     3974.937784    34.930238           4.502517   \n",
       "min                0.000000      588.500000   640.000000           2.000000   \n",
       "25%                9.747500     3494.200000   680.000000           7.000000   \n",
       "50%               15.295000     5000.000000   700.000000           9.000000   \n",
       "75%               20.692500     6800.000000   725.000000          13.000000   \n",
       "max               34.910000   102750.000000   830.000000          38.000000   \n",
       "\n",
       "       Revolving.CREDIT.Balance     MORTGAGE          OWN         RENT  \n",
       "count               2472.000000  2472.000000  2472.000000  2472.000000  \n",
       "mean               15233.970065     0.459951     0.080097     0.459951  \n",
       "std                18318.330943     0.498494     0.271498     0.498494  \n",
       "min                    0.000000     0.000000     0.000000     0.000000  \n",
       "25%                 5566.250000     0.000000     0.000000     0.000000  \n",
       "50%                10962.000000     0.000000     0.000000     0.000000  \n",
       "75%                18909.750000     1.000000     0.000000     1.000000  \n",
       "max               270800.000000     1.000000     1.000000     1.000000  "
      ]
     },
     "execution_count": 59,
     "metadata": {},
     "output_type": "execute_result"
    }
   ],
   "source": [
    "df.describe()"
   ]
  },
  {
   "cell_type": "code",
   "execution_count": 60,
   "metadata": {},
   "outputs": [
    {
     "data": {
      "text/plain": [
       "<matplotlib.axes._subplots.AxesSubplot at 0x19c86b45248>"
      ]
     },
     "execution_count": 60,
     "metadata": {},
     "output_type": "execute_result"
    },
    {
     "data": {
      "image/png": "[encoded data removed]",
      "text/plain": [
       "<Figure size 432x288 with 1 Axes>"
      ]
     },
     "metadata": {
      "needs_background": "light"
     },
     "output_type": "display_data"
    }
   ],
   "source": [
    "df.boxplot()"
   ]
  },
  {
   "cell_type": "code",
   "execution_count": 61,
   "metadata": {},
   "outputs": [],
   "source": [
    "x=df.drop([\"ID\",\"Interest.Rate\"],axis=1)"
   ]
  },
  {
   "cell_type": "code",
   "execution_count": 62,
   "metadata": {},
   "outputs": [
    {
     "data": {
      "text/html": [
       "<div>\n",
       "<style scoped>\n",
       "    .dataframe tbody tr th:only-of-type {\n",
       "        vertical-align: middle;\n",
       "    }\n",
       "\n",
       "    .dataframe tbody tr th {\n",
       "        vertical-align: top;\n",
       "    }\n",
       "\n",
       "    .dataframe thead th {\n",
       "        text-align: right;\n",
       "    }\n",
       "</style>\n",
       "<table border=\"1\" class=\"dataframe\">\n",
       "  <thead>\n",
       "    <tr style=\"text-align: right;\">\n",
       "      <th></th>\n",
       "      <th>Amount.Requested</th>\n",
       "      <th>Loan.Length</th>\n",
       "      <th>Debt.To.Income.Ratio</th>\n",
       "      <th>Monthly.Income</th>\n",
       "      <th>FICO.Range</th>\n",
       "      <th>Open.CREDIT.Lines</th>\n",
       "      <th>Revolving.CREDIT.Balance</th>\n",
       "      <th>MORTGAGE</th>\n",
       "      <th>OWN</th>\n",
       "      <th>RENT</th>\n",
       "    </tr>\n",
       "  </thead>\n",
       "  <tbody>\n",
       "    <tr>\n",
       "      <td>0</td>\n",
       "      <td>20000.0</td>\n",
       "      <td>36.0</td>\n",
       "      <td>14.90</td>\n",
       "      <td>6541.67</td>\n",
       "      <td>735</td>\n",
       "      <td>14.0</td>\n",
       "      <td>14272.0</td>\n",
       "      <td>1</td>\n",
       "      <td>0</td>\n",
       "      <td>0</td>\n",
       "    </tr>\n",
       "    <tr>\n",
       "      <td>1</td>\n",
       "      <td>19200.0</td>\n",
       "      <td>36.0</td>\n",
       "      <td>28.36</td>\n",
       "      <td>4583.33</td>\n",
       "      <td>715</td>\n",
       "      <td>12.0</td>\n",
       "      <td>11140.0</td>\n",
       "      <td>1</td>\n",
       "      <td>0</td>\n",
       "      <td>0</td>\n",
       "    </tr>\n",
       "    <tr>\n",
       "      <td>2</td>\n",
       "      <td>35000.0</td>\n",
       "      <td>60.0</td>\n",
       "      <td>23.81</td>\n",
       "      <td>11500.00</td>\n",
       "      <td>690</td>\n",
       "      <td>14.0</td>\n",
       "      <td>21977.0</td>\n",
       "      <td>1</td>\n",
       "      <td>0</td>\n",
       "      <td>0</td>\n",
       "    </tr>\n",
       "    <tr>\n",
       "      <td>3</td>\n",
       "      <td>10000.0</td>\n",
       "      <td>36.0</td>\n",
       "      <td>14.30</td>\n",
       "      <td>3833.33</td>\n",
       "      <td>695</td>\n",
       "      <td>10.0</td>\n",
       "      <td>9346.0</td>\n",
       "      <td>1</td>\n",
       "      <td>0</td>\n",
       "      <td>0</td>\n",
       "    </tr>\n",
       "    <tr>\n",
       "      <td>4</td>\n",
       "      <td>12000.0</td>\n",
       "      <td>36.0</td>\n",
       "      <td>18.78</td>\n",
       "      <td>3195.00</td>\n",
       "      <td>695</td>\n",
       "      <td>11.0</td>\n",
       "      <td>14469.0</td>\n",
       "      <td>0</td>\n",
       "      <td>0</td>\n",
       "      <td>1</td>\n",
       "    </tr>\n",
       "  </tbody>\n",
       "</table>\n",
       "</div>"
      ],
      "text/plain": [
       "   Amount.Requested  Loan.Length  Debt.To.Income.Ratio  Monthly.Income  \\\n",
       "0           20000.0         36.0                 14.90         6541.67   \n",
       "1           19200.0         36.0                 28.36         4583.33   \n",
       "2           35000.0         60.0                 23.81        11500.00   \n",
       "3           10000.0         36.0                 14.30         3833.33   \n",
       "4           12000.0         36.0                 18.78         3195.00   \n",
       "\n",
       "   FICO.Range  Open.CREDIT.Lines  Revolving.CREDIT.Balance  MORTGAGE  OWN  \\\n",
       "0         735               14.0                   14272.0         1    0   \n",
       "1         715               12.0                   11140.0         1    0   \n",
       "2         690               14.0                   21977.0         1    0   \n",
       "3         695               10.0                    9346.0         1    0   \n",
       "4         695               11.0                   14469.0         0    0   \n",
       "\n",
       "   RENT  \n",
       "0     0  \n",
       "1     0  \n",
       "2     0  \n",
       "3     0  \n",
       "4     1  "
      ]
     },
     "execution_count": 62,
     "metadata": {},
     "output_type": "execute_result"
    }
   ],
   "source": [
    "x.head()"
   ]
  },
  {
   "cell_type": "code",
   "execution_count": 63,
   "metadata": {},
   "outputs": [],
   "source": [
    "y=df[\"Interest.Rate\"]"
   ]
  },
  {
   "cell_type": "code",
   "execution_count": 64,
   "metadata": {},
   "outputs": [
    {
     "data": {
      "text/plain": [
       "0     8.90\n",
       "1    12.12\n",
       "2    21.98\n",
       "3     9.99\n",
       "4    11.71\n",
       "Name: Interest.Rate, dtype: float64"
      ]
     },
     "execution_count": 64,
     "metadata": {},
     "output_type": "execute_result"
    }
   ],
   "source": [
    "y.head()"
   ]
  },
  {
   "cell_type": "code",
   "execution_count": 65,
   "metadata": {},
   "outputs": [
    {
     "data": {
      "text/plain": [
       "0        8.90\n",
       "1       12.12\n",
       "2       21.98\n",
       "3        9.99\n",
       "4       11.71\n",
       "        ...  \n",
       "2487    14.65\n",
       "2488    16.77\n",
       "2489    14.09\n",
       "2490    13.99\n",
       "2492    13.79\n",
       "Name: Interest.Rate, Length: 2472, dtype: float64"
      ]
     },
     "execution_count": 65,
     "metadata": {},
     "output_type": "execute_result"
    }
   ],
   "source": [
    "y"
   ]
  },
  {
   "cell_type": "markdown",
   "metadata": {},
   "source": [
    "##split by tarin and test"
   ]
  },
  {
   "cell_type": "code",
   "execution_count": 67,
   "metadata": {},
   "outputs": [],
   "source": [
    "from sklearn.model_selection import train_test_split\n",
    "xtrain,xtest,ytrain,ytest=train_test_split(x,y,test_size=0.3,random_state=123)"
   ]
  },
  {
   "cell_type": "code",
   "execution_count": 68,
   "metadata": {},
   "outputs": [
    {
     "data": {
      "text/plain": [
       "(742, 10)"
      ]
     },
     "execution_count": 68,
     "metadata": {},
     "output_type": "execute_result"
    }
   ],
   "source": [
    "xtest.shape"
   ]
  },
  {
   "cell_type": "code",
   "execution_count": 69,
   "metadata": {},
   "outputs": [
    {
     "data": {
      "text/plain": [
       "(1730, 10)"
      ]
     },
     "execution_count": 69,
     "metadata": {},
     "output_type": "execute_result"
    }
   ],
   "source": [
    "xtrain.shape"
   ]
  },
  {
   "cell_type": "code",
   "execution_count": 70,
   "metadata": {},
   "outputs": [],
   "source": [
    "from sklearn.linear_model import LinearRegression\n",
    "df_model=LinearRegression().fit(xtrain,ytrain)"
   ]
  },
  {
   "cell_type": "code",
   "execution_count": 71,
   "metadata": {},
   "outputs": [
    {
     "data": {
      "text/plain": [
       "array([ 1.49368098e-04,  1.36763733e-01, -4.60162489e-03, -2.87871515e-05,\n",
       "       -8.72676804e-02, -2.88204797e-02, -3.03004901e-06, -2.01816281e-01,\n",
       "        1.97424895e-01,  4.39138604e-03])"
      ]
     },
     "execution_count": 71,
     "metadata": {},
     "output_type": "execute_result"
    }
   ],
   "source": [
    "df_model.coef_"
   ]
  },
  {
   "cell_type": "code",
   "execution_count": 72,
   "metadata": {},
   "outputs": [],
   "source": [
    "temp_model=pd.DataFrame(xtrain.columns)"
   ]
  },
  {
   "cell_type": "code",
   "execution_count": 73,
   "metadata": {},
   "outputs": [
    {
     "data": {
      "text/html": [
       "<div>\n",
       "<style scoped>\n",
       "    .dataframe tbody tr th:only-of-type {\n",
       "        vertical-align: middle;\n",
       "    }\n",
       "\n",
       "    .dataframe tbody tr th {\n",
       "        vertical-align: top;\n",
       "    }\n",
       "\n",
       "    .dataframe thead th {\n",
       "        text-align: right;\n",
       "    }\n",
       "</style>\n",
       "<table border=\"1\" class=\"dataframe\">\n",
       "  <thead>\n",
       "    <tr style=\"text-align: right;\">\n",
       "      <th></th>\n",
       "      <th>0</th>\n",
       "    </tr>\n",
       "  </thead>\n",
       "  <tbody>\n",
       "    <tr>\n",
       "      <td>0</td>\n",
       "      <td>Amount.Requested</td>\n",
       "    </tr>\n",
       "    <tr>\n",
       "      <td>1</td>\n",
       "      <td>Loan.Length</td>\n",
       "    </tr>\n",
       "    <tr>\n",
       "      <td>2</td>\n",
       "      <td>Debt.To.Income.Ratio</td>\n",
       "    </tr>\n",
       "    <tr>\n",
       "      <td>3</td>\n",
       "      <td>Monthly.Income</td>\n",
       "    </tr>\n",
       "    <tr>\n",
       "      <td>4</td>\n",
       "      <td>FICO.Range</td>\n",
       "    </tr>\n",
       "    <tr>\n",
       "      <td>5</td>\n",
       "      <td>Open.CREDIT.Lines</td>\n",
       "    </tr>\n",
       "    <tr>\n",
       "      <td>6</td>\n",
       "      <td>Revolving.CREDIT.Balance</td>\n",
       "    </tr>\n",
       "    <tr>\n",
       "      <td>7</td>\n",
       "      <td>MORTGAGE</td>\n",
       "    </tr>\n",
       "    <tr>\n",
       "      <td>8</td>\n",
       "      <td>OWN</td>\n",
       "    </tr>\n",
       "    <tr>\n",
       "      <td>9</td>\n",
       "      <td>RENT</td>\n",
       "    </tr>\n",
       "  </tbody>\n",
       "</table>\n",
       "</div>"
      ],
      "text/plain": [
       "                          0\n",
       "0          Amount.Requested\n",
       "1               Loan.Length\n",
       "2      Debt.To.Income.Ratio\n",
       "3            Monthly.Income\n",
       "4                FICO.Range\n",
       "5         Open.CREDIT.Lines\n",
       "6  Revolving.CREDIT.Balance\n",
       "7                  MORTGAGE\n",
       "8                       OWN\n",
       "9                      RENT"
      ]
     },
     "execution_count": 73,
     "metadata": {},
     "output_type": "execute_result"
    }
   ],
   "source": [
    "temp_model"
   ]
  },
  {
   "cell_type": "code",
   "execution_count": 74,
   "metadata": {},
   "outputs": [],
   "source": [
    "temp_model[\"Coefficient\"]=df_model.coef_"
   ]
  },
  {
   "cell_type": "code",
   "execution_count": 75,
   "metadata": {},
   "outputs": [
    {
     "data": {
      "text/html": [
       "<div>\n",
       "<style scoped>\n",
       "    .dataframe tbody tr th:only-of-type {\n",
       "        vertical-align: middle;\n",
       "    }\n",
       "\n",
       "    .dataframe tbody tr th {\n",
       "        vertical-align: top;\n",
       "    }\n",
       "\n",
       "    .dataframe thead th {\n",
       "        text-align: right;\n",
       "    }\n",
       "</style>\n",
       "<table border=\"1\" class=\"dataframe\">\n",
       "  <thead>\n",
       "    <tr style=\"text-align: right;\">\n",
       "      <th></th>\n",
       "      <th>0</th>\n",
       "      <th>Coefficient</th>\n",
       "    </tr>\n",
       "  </thead>\n",
       "  <tbody>\n",
       "    <tr>\n",
       "      <td>0</td>\n",
       "      <td>Amount.Requested</td>\n",
       "      <td>0.000149</td>\n",
       "    </tr>\n",
       "    <tr>\n",
       "      <td>1</td>\n",
       "      <td>Loan.Length</td>\n",
       "      <td>0.136764</td>\n",
       "    </tr>\n",
       "    <tr>\n",
       "      <td>2</td>\n",
       "      <td>Debt.To.Income.Ratio</td>\n",
       "      <td>-0.004602</td>\n",
       "    </tr>\n",
       "    <tr>\n",
       "      <td>3</td>\n",
       "      <td>Monthly.Income</td>\n",
       "      <td>-0.000029</td>\n",
       "    </tr>\n",
       "    <tr>\n",
       "      <td>4</td>\n",
       "      <td>FICO.Range</td>\n",
       "      <td>-0.087268</td>\n",
       "    </tr>\n",
       "    <tr>\n",
       "      <td>5</td>\n",
       "      <td>Open.CREDIT.Lines</td>\n",
       "      <td>-0.028820</td>\n",
       "    </tr>\n",
       "    <tr>\n",
       "      <td>6</td>\n",
       "      <td>Revolving.CREDIT.Balance</td>\n",
       "      <td>-0.000003</td>\n",
       "    </tr>\n",
       "    <tr>\n",
       "      <td>7</td>\n",
       "      <td>MORTGAGE</td>\n",
       "      <td>-0.201816</td>\n",
       "    </tr>\n",
       "    <tr>\n",
       "      <td>8</td>\n",
       "      <td>OWN</td>\n",
       "      <td>0.197425</td>\n",
       "    </tr>\n",
       "    <tr>\n",
       "      <td>9</td>\n",
       "      <td>RENT</td>\n",
       "      <td>0.004391</td>\n",
       "    </tr>\n",
       "  </tbody>\n",
       "</table>\n",
       "</div>"
      ],
      "text/plain": [
       "                          0  Coefficient\n",
       "0          Amount.Requested     0.000149\n",
       "1               Loan.Length     0.136764\n",
       "2      Debt.To.Income.Ratio    -0.004602\n",
       "3            Monthly.Income    -0.000029\n",
       "4                FICO.Range    -0.087268\n",
       "5         Open.CREDIT.Lines    -0.028820\n",
       "6  Revolving.CREDIT.Balance    -0.000003\n",
       "7                  MORTGAGE    -0.201816\n",
       "8                       OWN     0.197425\n",
       "9                      RENT     0.004391"
      ]
     },
     "execution_count": 75,
     "metadata": {},
     "output_type": "execute_result"
    }
   ],
   "source": [
    "temp_model"
   ]
  },
  {
   "cell_type": "code",
   "execution_count": 76,
   "metadata": {},
   "outputs": [],
   "source": [
    "y_priction=df_model.predict(xtest)"
   ]
  },
  {
   "cell_type": "code",
   "execution_count": 77,
   "metadata": {},
   "outputs": [
    {
     "name": "stdout",
     "output_type": "stream",
     "text": [
      "[ 6.86839376 16.12148307  7.70213122 15.67650597  9.92752897 13.0152992\n",
      "  9.32631133  7.59515554 14.78957633 16.50490028 17.4928877  14.27908415\n",
      " 20.11591532  3.52288516  9.88342047 14.6720048  14.99075662  4.89886553\n",
      " 20.27975139 15.03163243 15.68039632 10.73940464 11.63487214 15.88307598\n",
      "  9.93191356 10.41688496 11.66118631  9.61407913 12.58460926 11.12374628\n",
      " 19.05340015 14.9727775   8.74142395  8.62707679 14.5020602  12.17632282\n",
      " 15.69745261 10.32427539 16.03461993 15.13709136 15.23135356  7.30558901\n",
      " 15.97919665 15.39457293  8.45843893  7.4902637  12.78846216 12.71996803\n",
      " 17.81836934 18.03205396 17.19828832 14.79560546  7.93477397 15.45501684\n",
      "  6.51793971 15.09118376 15.24874137 14.35416236 20.40399056  9.96290672\n",
      " 13.42879672 15.76856503 14.15135251 16.21591674 11.20688516 12.00381746\n",
      "  9.57574916 13.96293958  9.94312911 12.98358898 19.56945835 11.89606027\n",
      " 15.87807281 12.29309691 14.18630652 10.23321108  4.62727692 11.72399736\n",
      "  7.55498774 10.11207259 11.54818835 12.77719674 18.80843267 13.00781897\n",
      " 17.36085248 14.8251787   9.37730691 15.8156532  14.16138318 15.37404747\n",
      "  9.18765526 11.94747524  8.70567082 14.87002829 15.61664956 17.55881861\n",
      "  5.30859816 15.76779911 15.03203566 11.17794959 15.56953589 11.83667505\n",
      " 13.81233983 10.05508681 15.4055091  15.87247689 12.70678559  9.31492738\n",
      " 12.49692772 12.94133    15.34176391 12.48222555 12.09040387 10.77164938\n",
      " 19.11612273 12.81597697 11.01304424  5.11569077 14.11997962  7.20552368\n",
      " 12.41856854 12.81352307 15.31144456 11.44064404 11.78321337 13.10841441\n",
      " 12.46947628 14.224634   19.68338947 17.57218889 16.90542131 16.14653402\n",
      " 15.12998067 11.05605112 10.52523728 15.24355644 18.01825571 20.30848526\n",
      " 14.63826895 15.1285445  13.07116329 15.41532133  7.98790004 13.07769017\n",
      " 22.37719193 12.54319056 17.40868256 14.09330665 18.42992401 13.66323884\n",
      " 10.5784487  15.49123235 15.43546288 12.81974048 10.97653286 12.05368897\n",
      " 11.91931903 14.28700808 13.52088234 13.38716152  7.17107166 14.81190848\n",
      " 17.85590304 16.38963852 13.37113217 13.70255661 10.66619051 11.18734089\n",
      " 13.808045    5.50792108  7.42144141 14.24459789 20.24733901 15.68359889\n",
      " 14.95639737  8.36837552 13.79123993 19.2840627  14.03568305 12.1254719\n",
      " 13.13963119  7.39174241 13.79604951 11.89537652 16.27643416 12.4295412\n",
      " 16.88318047 12.76108755  7.26579857 19.86306192 15.33660033 13.63307471\n",
      " 12.59268803 11.40419566 12.66007703  3.07820771 15.66744783 14.20238723\n",
      " 14.85800605  9.37113802  3.04055787 12.76219079 15.60888092 13.16703\n",
      "  6.494152   14.53110416 16.11706449 19.44628972 11.47179063 11.95976221\n",
      " 12.57511806  8.6647097   3.11068441  7.01836348 13.07559594 14.23547653\n",
      " 12.40949068 18.10816788  8.64112423 15.10408298 14.0127518  10.10442052\n",
      " 11.96437059  7.54421838  7.32680158 14.98347966 11.37165176 15.88390979\n",
      " 17.27027875 16.61688198 12.88579675 11.29841609 18.91270636 13.9614275\n",
      "  8.35333709  9.52067755  9.27137417 14.93050275 11.97801552 19.80414799\n",
      "  9.32386576 15.47156013 13.86820831 12.20677471 13.36745605 15.13668783\n",
      " 11.17089384 12.36020457 10.15130061 14.89299339 11.22299653 10.88318567\n",
      " 11.27639719 11.80333591 14.30948451 14.57469012 14.86655956 11.45543438\n",
      "  8.90810771 13.14800377 13.90221987 14.42467511 15.33528251 20.2288707\n",
      "  8.1023937  15.51845623 18.42233297  9.80766021 12.33179156 13.04690743\n",
      "  4.67908911 19.64391851 15.73063495 12.33437185 14.31998974 13.58123971\n",
      "  8.11381847 15.39057358 14.0715607  16.93551086 13.34091237 19.70302198\n",
      "  8.31392435 15.21123808 14.9642169  16.15326134 12.94496676  5.15472739\n",
      " 11.19673843 15.00562253 13.09539801 10.88232953 13.36528239 10.06595364\n",
      "  9.20065152 11.9327407  14.22182261 12.58600004 20.61544897 11.41202526\n",
      " 10.93464401 14.61205665 16.48370556 17.65998382 17.20429696 14.86302724\n",
      "  8.57815783  8.34566185 14.32425096 15.99300455 14.42743632 18.76068806\n",
      "  8.08852625 14.7931894   9.28955221 16.43786778 14.5557564  13.84473306\n",
      "  8.3674976  12.90812863 19.58623213 20.70047573 17.7825705  18.97287966\n",
      " 14.42488495  9.27282141 13.33811347 12.31391142 11.29450358  7.96900192\n",
      " 10.25788878 15.95939015  7.35329979 11.20368759 15.39130871 19.84774227\n",
      " 13.81941867 14.830281   18.49558172 11.09606944 13.67658514 14.14216298\n",
      "  4.38971594 10.70798629 20.25185336 15.26917168  9.79831316 19.30820589\n",
      " 19.2071329  17.3130966   3.79299875  9.01038278  6.74860615 13.36019863\n",
      " 19.38290597 13.18529105 14.83090543 16.14758693  6.58956931  9.53590546\n",
      " 10.78163411 13.02187553 10.55653871 18.70395302  8.1720866   9.89276651\n",
      "  9.68100221 10.22424874 14.08091055 16.85552179 13.436446   11.35223929\n",
      " 13.39019417 13.15007679 11.66224244 11.78515108 13.71156918 15.218989\n",
      " 15.82704275  7.03555682 14.6504136  10.22432272 15.74553388 11.84854616\n",
      " 14.09750546 14.9965451  16.46663404 13.21844254  7.12790499 10.35013659\n",
      " 12.93551425 11.02508587 14.09167222 13.71469353 13.51375106 10.74779648\n",
      "  8.04875099 14.30950395 13.87166641  6.74593856 13.33197246 17.2287555\n",
      "  9.7879319  15.49708964 16.35922575 15.60295614 14.24371759  4.84676599\n",
      " 11.59367163 11.0770635  14.58447161 19.5747465  14.49368484 11.20197283\n",
      " 15.26069256 15.21589635 11.74877507 14.23639169 20.74888697 12.7552622\n",
      " 18.54833118 13.88311665 14.67238664 14.63591724 17.27334422  9.40326391\n",
      "  9.89303036 19.52063004 14.45248688 14.13596671 11.61467192 18.78535475\n",
      " 11.87556594 12.96584341 14.77159647 17.45897733 16.03354857 15.12511231\n",
      " 15.05136996 12.28499973  9.4364263  13.34122236 13.18269325 11.42717048\n",
      "  8.75472027 13.92503765 12.34838766 13.72524669 16.62980057 16.21739823\n",
      " 11.76443811 18.01999744 10.09657663 10.01260268 14.44692878 18.16971186\n",
      " 12.79875497 19.82263546 17.12582372 13.39742087 13.19850313 10.1183071\n",
      " 10.73571933 16.46950576 10.50851595  9.29950648 15.89537572 14.21442395\n",
      " 15.37600426 16.28015242 13.49333833 10.10388336 18.15112526 13.99217022\n",
      "  9.31278121 15.71002608 12.42756957 13.28721235 15.2085289   9.53664376\n",
      " 13.90094209 14.59614564  7.3560012  14.84607109 17.03703879 10.77342207\n",
      " 11.3405395  14.70522092 15.16297815 20.60676143 14.61742341  7.26757544\n",
      " 14.44272454 10.63682529  7.00199308 15.10926646 13.34164994 10.15786106\n",
      " 18.4439672  11.89971549 13.6763259  12.27631593 12.39088798 13.9728901\n",
      " 12.04056922 17.39588108 13.8873236  14.34418416 14.90022126  6.90834222\n",
      " 14.38370473 13.31681055  6.60521272 11.47246276 12.12482972 11.59715774\n",
      " 12.9066174  10.20704598 16.16605376 15.36112004 12.59980755 13.96462899\n",
      " 15.31817783  9.43297609 18.75628886 16.38103223 14.79388324 14.83019641\n",
      " 14.07564302 10.22002831 11.17469948 13.94256058 16.85213661  9.42306158\n",
      "  9.40633793 15.90399986 16.42050888 17.50084706 12.19878985 10.87208944\n",
      " 22.41244418 12.71931601 11.93160543 12.184132   15.12210756 14.31991946\n",
      " 13.63640059 15.60332502 12.25536995 12.04144311 10.23479247 16.53443472\n",
      " 12.68035076 15.93455443 11.50776343 12.05087714 12.69655974 18.32790078\n",
      " 13.18496048 13.71125955 13.29825193 14.87862629 15.03571327 16.67974583\n",
      "  6.94763631 16.95716538 15.84361998 17.07670671 18.42973515 14.93243532\n",
      " 15.34322614 16.8616011  16.20594917 18.37531067  5.2032177  18.93383466\n",
      " 20.21748096 13.66632486 10.30550129  7.49434458 14.53895415 15.99445022\n",
      "  7.47931594 17.74019136  9.83866517 13.83769981 17.85485317 16.96031031\n",
      " 12.69896848 18.20954278 12.99973012  8.03169353  4.55131362 14.72901912\n",
      " 18.30683376 19.09727673 15.93815833 12.77562363 15.08018061 19.30219344\n",
      " 12.97248246 14.08219806  6.0076702  12.50861367 11.96247666 14.94118051\n",
      " 12.50528097 16.49539152 17.55589394  6.66453053  8.87534742 14.58981784\n",
      " 10.01875098 14.63998332 18.88369525 13.16498917 19.09043809 14.93898507\n",
      " 14.70349497 18.96325927 14.98101072 17.67798857 14.68062846 20.52963264\n",
      " 13.83911517 13.78694221 10.30234647 14.73562306 13.51640888 10.74043455\n",
      "  9.46624038 11.5160773  18.36565925 11.11323051 11.0902218  16.46243983\n",
      " 13.98061116 13.93483429 15.36165565 12.91733633 12.05146162 17.65944398\n",
      " 19.70797992 15.31214636  9.98219007 13.65054333  9.00915291  7.67898904\n",
      " 13.71921198 10.21507389  9.43080291 14.60253482 14.4683441  12.40855922\n",
      " 12.49676807 22.16963619 11.65405374 14.25859366 14.65489676  5.419034\n",
      " 14.917012   11.35979972 18.3831028  11.98117024 15.02013497  7.57412104\n",
      "  8.11243731 16.30125905 15.68077083 17.45108814 11.71091494 13.01352331\n",
      " 11.78696765 13.79619464 14.404599   12.61227569 14.19842841 15.71211754\n",
      " 17.62718017  8.80119859 15.04387217 10.33723296  8.52667767 19.00058366\n",
      " 19.71579261  7.260836   15.67997517  8.8597264  20.02855504 15.00057872\n",
      " 13.45452715 11.71840248 11.66264309 14.34538679 10.85773452 13.92577918\n",
      " 18.91877814  9.64037684  9.97665974  2.25056549  8.29516675 14.10304492\n",
      "  5.73824065 19.05642831  6.07299027 12.69456391 17.45632141 14.84318058\n",
      " 13.43458547 12.02398308 10.85714367 13.75947006  4.31988593 15.54891076\n",
      " 10.0383936   4.95765276 10.60341457  7.46747875 16.46887168 12.26045328\n",
      " 15.36494926 12.88745035  6.9066234  16.1764829  13.71706981 14.62811972\n",
      " 11.49205518 16.11978406 18.68595911 14.35329185 18.71783642  2.41174759\n",
      " 14.24667048 13.66702636  5.34184034 10.45879091  9.44111015  1.49679185\n",
      " 14.09369088 11.33527744 12.69222203 12.68713037]\n"
     ]
    }
   ],
   "source": [
    "print(y_priction)"
   ]
  },
  {
   "cell_type": "code",
   "execution_count": 78,
   "metadata": {},
   "outputs": [],
   "source": [
    "temp_compare=pd.DataFrame(ytest)"
   ]
  },
  {
   "cell_type": "code",
   "execution_count": 81,
   "metadata": {},
   "outputs": [],
   "source": [
    "import numpy as nm"
   ]
  },
  {
   "cell_type": "code",
   "execution_count": 82,
   "metadata": {},
   "outputs": [],
   "source": [
    "temp_compare[\"predicted_interest_rate\"]= nm.round(y_priction,2)"
   ]
  },
  {
   "cell_type": "code",
   "execution_count": 83,
   "metadata": {},
   "outputs": [
    {
     "data": {
      "text/html": [
       "<div>\n",
       "<style scoped>\n",
       "    .dataframe tbody tr th:only-of-type {\n",
       "        vertical-align: middle;\n",
       "    }\n",
       "\n",
       "    .dataframe tbody tr th {\n",
       "        vertical-align: top;\n",
       "    }\n",
       "\n",
       "    .dataframe thead th {\n",
       "        text-align: right;\n",
       "    }\n",
       "</style>\n",
       "<table border=\"1\" class=\"dataframe\">\n",
       "  <thead>\n",
       "    <tr style=\"text-align: right;\">\n",
       "      <th></th>\n",
       "      <th>Interest.Rate</th>\n",
       "      <th>predicted_interest_rate</th>\n",
       "    </tr>\n",
       "  </thead>\n",
       "  <tbody>\n",
       "    <tr>\n",
       "      <td>1599</td>\n",
       "      <td>5.79</td>\n",
       "      <td>6.87</td>\n",
       "    </tr>\n",
       "    <tr>\n",
       "      <td>1238</td>\n",
       "      <td>15.65</td>\n",
       "      <td>16.12</td>\n",
       "    </tr>\n",
       "    <tr>\n",
       "      <td>91</td>\n",
       "      <td>7.62</td>\n",
       "      <td>7.70</td>\n",
       "    </tr>\n",
       "    <tr>\n",
       "      <td>1475</td>\n",
       "      <td>16.77</td>\n",
       "      <td>15.68</td>\n",
       "    </tr>\n",
       "    <tr>\n",
       "      <td>564</td>\n",
       "      <td>8.94</td>\n",
       "      <td>9.93</td>\n",
       "    </tr>\n",
       "    <tr>\n",
       "      <td>...</td>\n",
       "      <td>...</td>\n",
       "      <td>...</td>\n",
       "    </tr>\n",
       "    <tr>\n",
       "      <td>1945</td>\n",
       "      <td>6.62</td>\n",
       "      <td>1.50</td>\n",
       "    </tr>\n",
       "    <tr>\n",
       "      <td>990</td>\n",
       "      <td>16.29</td>\n",
       "      <td>14.09</td>\n",
       "    </tr>\n",
       "    <tr>\n",
       "      <td>2446</td>\n",
       "      <td>10.16</td>\n",
       "      <td>11.34</td>\n",
       "    </tr>\n",
       "    <tr>\n",
       "      <td>16</td>\n",
       "      <td>12.12</td>\n",
       "      <td>12.69</td>\n",
       "    </tr>\n",
       "    <tr>\n",
       "      <td>2301</td>\n",
       "      <td>8.90</td>\n",
       "      <td>12.69</td>\n",
       "    </tr>\n",
       "  </tbody>\n",
       "</table>\n",
       "<p>742 rows × 2 columns</p>\n",
       "</div>"
      ],
      "text/plain": [
       "      Interest.Rate  predicted_interest_rate\n",
       "1599           5.79                     6.87\n",
       "1238          15.65                    16.12\n",
       "91             7.62                     7.70\n",
       "1475          16.77                    15.68\n",
       "564            8.94                     9.93\n",
       "...             ...                      ...\n",
       "1945           6.62                     1.50\n",
       "990           16.29                    14.09\n",
       "2446          10.16                    11.34\n",
       "16            12.12                    12.69\n",
       "2301           8.90                    12.69\n",
       "\n",
       "[742 rows x 2 columns]"
      ]
     },
     "execution_count": 83,
     "metadata": {},
     "output_type": "execute_result"
    }
   ],
   "source": [
    "temp_compare"
   ]
  },
  {
   "cell_type": "code",
   "execution_count": 85,
   "metadata": {},
   "outputs": [],
   "source": [
    "rmse=nm.round((nm.mean(y_priction-ytest)**2)**(1/2),2)"
   ]
  },
  {
   "cell_type": "code",
   "execution_count": 88,
   "metadata": {},
   "outputs": [
    {
     "data": {
      "text/plain": [
       "0.1"
      ]
     },
     "execution_count": 88,
     "metadata": {},
     "output_type": "execute_result"
    }
   ],
   "source": [
    "rmse"
   ]
  },
  {
   "cell_type": "code",
   "execution_count": 89,
   "metadata": {},
   "outputs": [
    {
     "data": {
      "text/plain": [
       "0.7713835379161222"
      ]
     },
     "execution_count": 89,
     "metadata": {},
     "output_type": "execute_result"
    }
   ],
   "source": [
    "df_model.score(xtest,ytest)"
   ]
  },
  {
   "cell_type": "code",
   "execution_count": 90,
   "metadata": {},
   "outputs": [
    {
     "data": {
      "image/png": "[encoded data removed]",
      "text/plain": [
       "<Figure size 432x288 with 1 Axes>"
      ]
     },
     "metadata": {
      "needs_background": "light"
     },
     "output_type": "display_data"
    }
   ],
   "source": [
    "temp_plot=plt.scatter(y_priction,(y_priction-ytest),c=\"g\")\n",
    "plt.title(\"Residual plot\")\n",
    "plt.show()"
   ]
  },
  {
   "cell_type": "code",
   "execution_count": null,
   "metadata": {},
   "outputs": [],
   "source": []
  }
 ],
 "metadata": {
  "kernelspec": {
   "display_name": "Python 3",
   "language": "python",
   "name": "python3"
  },
  "language_info": {
   "codemirror_mode": {
    "name": "ipython",
    "version": 3
   },
   "file_extension": ".py",
   "mimetype": "text/x-python",
   "name": "python",
   "nbconvert_exporter": "python",
   "pygments_lexer": "ipython3",
   "version": "3.7.4"
  }
 },
 "nbformat": 4,
 "nbformat_minor": 2
}
